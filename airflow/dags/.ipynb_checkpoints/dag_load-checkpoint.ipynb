{
 "cells": [
  {
   "cell_type": "code",
   "execution_count": null,
   "id": "96bf7bfd",
   "metadata": {},
   "outputs": [],
   "source": [
    "from datetime import datetime, timedelta\n",
    "from airflow.models import DAG\n",
    "from airflow.operators.python import PythonOperator\n",
    "from airflow.providers.postgres.operators.postgres import PostgresOperator\n",
    "\n",
    "import logging\n",
    "log:logging.log = logging.getLogger(\"airflow\")\n",
    "log.setLevel(logging.INFO)\n",
    "\n",
    "default_args = {\n",
    "    'owner': 'Rediet',\n",
    "    'retries': 5,\n",
    "    'retry_delay': timedelta(minutes=2)\n",
    "}\n",
    "\n",
    "with DAG(\n",
    "    dag_id='debug_and_run_dbt',\n",
    "    default_args=default_args,\n",
    "    start_date=datetime(2023, 12, 23),\n",
    "    schedule_interval='0 0 * * *'\n",
    ") as dag:\n",
    "     task1 = BashOperator(\n",
    "        task_id='dbt_move_to_folder',\n",
    "        bash_command='cd ../dbt' \n",
    "    )\n",
    "    task2 = BashOperator(\n",
    "        task_id='dbt_debug',\n",
    "        bash_command='dbt debug' \n",
    "    )\n",
    "   \n",
    "    task3 = BashOperator(\n",
    "        task_id='dbt_test',\n",
    "        bash_command='dbt test'\n",
    "    )\n",
    "\n",
    "    task4 = BashOperator(\n",
    "        task_id='dbt_run',\n",
    "        bash_command='dbt run'\n",
    "    )\n",
    "\n",
    "    task1 >> task2 >> task3 >> task4\n",
    "   "
   ]
  }
 ],
 "metadata": {
  "kernelspec": {
   "display_name": "Python 3 (ipykernel)",
   "language": "python",
   "name": "python3"
  },
  "language_info": {
   "codemirror_mode": {
    "name": "ipython",
    "version": 3
   },
   "file_extension": ".py",
   "mimetype": "text/x-python",
   "name": "python",
   "nbconvert_exporter": "python",
   "pygments_lexer": "ipython3",
   "version": "3.11.5"
  }
 },
 "nbformat": 4,
 "nbformat_minor": 5
}
