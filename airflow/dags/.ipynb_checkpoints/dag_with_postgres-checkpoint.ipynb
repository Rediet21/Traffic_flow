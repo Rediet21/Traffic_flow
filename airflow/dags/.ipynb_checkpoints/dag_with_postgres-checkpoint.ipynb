{
 "cells": [
  {
   "cell_type": "code",
   "execution_count": 2,
   "id": "aa0fd84a",
   "metadata": {},
   "outputs": [
    {
     "ename": "ModuleNotFoundError",
     "evalue": "No module named 'airflow'",
     "output_type": "error",
     "traceback": [
      "\u001b[1;31m---------------------------------------------------------------------------\u001b[0m",
      "\u001b[1;31mModuleNotFoundError\u001b[0m                       Traceback (most recent call last)",
      "Cell \u001b[1;32mIn[2], line 2\u001b[0m\n\u001b[0;32m      1\u001b[0m \u001b[38;5;28;01mfrom\u001b[39;00m \u001b[38;5;21;01mdatetime\u001b[39;00m \u001b[38;5;28;01mimport\u001b[39;00m datetime, timedelta\n\u001b[1;32m----> 2\u001b[0m \u001b[38;5;28;01mfrom\u001b[39;00m \u001b[38;5;21;01mairflow\u001b[39;00m \u001b[38;5;28;01mimport\u001b[39;00m DAG\n\u001b[0;32m      3\u001b[0m \u001b[38;5;28;01mfrom\u001b[39;00m \u001b[38;5;21;01mairflow\u001b[39;00m\u001b[38;5;21;01m.\u001b[39;00m\u001b[38;5;21;01mproviders\u001b[39;00m\u001b[38;5;21;01m.\u001b[39;00m\u001b[38;5;21;01mpostgres\u001b[39;00m\u001b[38;5;21;01m.\u001b[39;00m\u001b[38;5;21;01moperators\u001b[39;00m\u001b[38;5;21;01m.\u001b[39;00m\u001b[38;5;21;01mpostgres\u001b[39;00m \u001b[38;5;28;01mimport\u001b[39;00m PostgresOperator\n",
      "\u001b[1;31mModuleNotFoundError\u001b[0m: No module named 'airflow'"
     ]
    }
   ],
   "source": [
    "from datetime import datetime, timedelta\n",
    "from airflow.models import DAG\n",
    "from airflow.operators.bash import Bashoperator\n",
    "from airflow.providers.postgres.operators.postgres import PostgresOperator\n",
    "\n",
    "default_args = {\n",
    "    'owner': 'coder'\n",
    "    'retries' : 5,\n",
    "    'retray_delay': timedelta(minutes=5)\n",
    "}\n",
    "with DAG(\n",
    "    dag_id=\"dag_with_postgres_v01\"\n",
    "    default_args=default_args,\n",
    "    start_date=date(2023, 12, 20),\n",
    "    schedule_interval='0 0 * * *'\n",
    ") as dag:\n",
    "    task1 = PostgresOperator(\n",
    "        task_id='create_postgres_table',\n",
    "        postgres_conn_id='postgres_localhost',\n",
    "        sql=\"\"\"\n",
    "            create table if not exists dag_runs(\n",
    "                 dt date,\n",
    "                 dag_id character varying,\n",
    "                 primary key (dt, dag_id)\n",
    "             )\n",
    "        \"\"\"\n",
    "        )\n",
    "    task1\n"
   ]
  },
  {
   "cell_type": "code",
   "execution_count": null,
   "id": "fdf50cf2",
   "metadata": {},
   "outputs": [],
   "source": []
  }
 ],
 "metadata": {
  "kernelspec": {
   "display_name": "Python 3 (ipykernel)",
   "language": "python",
   "name": "python3"
  },
  "language_info": {
   "codemirror_mode": {
    "name": "ipython",
    "version": 3
   },
   "file_extension": ".py",
   "mimetype": "text/x-python",
   "name": "python",
   "nbconvert_exporter": "python",
   "pygments_lexer": "ipython3",
   "version": "3.11.5"
  }
 },
 "nbformat": 4,
 "nbformat_minor": 5
}
