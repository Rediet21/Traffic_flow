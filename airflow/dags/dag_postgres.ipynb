{
 "cells": [
  {
   "cell_type": "code",
   "execution_count": null,
   "id": "71291a49",
   "metadata": {},
   "outputs": [],
   "source": [
    "from datetime import timedelta,datetime\n",
    "from airflow import DAG\n",
    "from airflow.operators.python import PythonOperator\n",
    "from airflow.providers.postgres.operators.postgres import PostgresOperator\n",
    "import logging\n",
    "log: logging.log = logging.getLogger(\"airflow\")\n",
    "log.setLevel(logging.INFO)\n",
    "\n",
    "default_args={\n",
    "    'owner':'Rediet',\n",
    "    'retries':5,\n",
    "    'retry_delay':timedelta(minutes=2)\n",
    "}\n",
    "\n",
    "def modify_raw_data(location):\n",
    "    updated_lines=\"\"\n",
    "    with open(location, 'r', encoding='ISO-8859-1') as f:\n",
    "            lines = f.readlines()\n",
    "            for index , line in enumerate(lines):\n",
    "                if(index == 0):\n",
    "                    data = line \n",
    "                each_line = line.split(';')\n",
    "                if index != 0:\n",
    "                    updated_lines += \";\".join(each_line[0:10]) + \";\" + \"_\".join(each_line[10:])\n",
    "                else:\n",
    "                    updated_lines += \";\".join(each_line[:len(each_line)-1]) + \";\" + \"time\" + \";\" + \"other_data\" + \"\\n\" \n",
    "    with open('/data/transformed_data', \"w\") as f:\n",
    "        f.writelines(updated_lines)\n",
    "\n",
    "\n",
    "with DAG(\n",
    "    dag_id='load_data',\n",
    "    default_args=default_args,\n",
    "    description='extract and load raw data from the given dataset',\n",
    "    start_date=datetime(2022,7,6),\n",
    "    schedule_interval='@once'\n",
    ")as dag:\n",
    "    task1 = PostgresOperator(\n",
    "        task_id='change_raw_file',\n",
    "        python_callable=modify_raw_data,\n",
    "        op_kwargs={'location':\"/data/dataset.csv\"}\n",
    "    )\n",
    "    task2 = PostgresOperator(\n",
    "        task_id='create_dataset_table',\n",
    "        postgres_conn_id='postgres_connection',\n",
    "        sql='/sql/create_raw_data.sql',\n",
    "    )\n",
    "    task3 = PostgresOperator(\n",
    "        task_id='load_dataset',\n",
    "        postgres_conn_id='postgres_connection',\n",
    "        sql='/sql/load_raw_data.sql',\n",
    "    )\n",
    "\n",
    "    task1 >> task2 >> task3"
   ]
  }
 ],
 "metadata": {
  "kernelspec": {
   "display_name": "Python 3 (ipykernel)",
   "language": "python",
   "name": "python3"
  },
  "language_info": {
   "codemirror_mode": {
    "name": "ipython",
    "version": 3
   },
   "file_extension": ".py",
   "mimetype": "text/x-python",
   "name": "python",
   "nbconvert_exporter": "python",
   "pygments_lexer": "ipython3",
   "version": "3.11.5"
  }
 },
 "nbformat": 4,
 "nbformat_minor": 5
}
