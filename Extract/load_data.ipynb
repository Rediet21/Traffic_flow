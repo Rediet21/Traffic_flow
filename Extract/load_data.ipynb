{
 "cells": [
  {
   "cell_type": "code",
   "execution_count": 9,
   "id": "ed611f44",
   "metadata": {},
   "outputs": [],
   "source": [
    "import csv\n",
    "import pandas as pd\n",
    "\n"
   ]
  },
  {
   "cell_type": "code",
   "execution_count": 14,
   "id": "eae8a18d",
   "metadata": {},
   "outputs": [],
   "source": [
    "def extract_data():\n",
    "\n",
    "    # Assuming your data is stored in a string named 'csv_data'\n",
    "    csv_file_path = \"../Data/Traffic_record_data.csv\"\n",
    "\n",
    "    # read and Process each line and split it into fields\n",
    "    with open(csv_file_path, 'r') as file:\n",
    "        rows = file.readlines()\n",
    "\n",
    "\n",
    "    # # Create a list to store the extracted information\n",
    "    vehicle_data = []\n",
    "    observation_data =[]\n",
    "\n",
    "\n",
    "    # Loop through each row\n",
    "    for row in rows:\n",
    "        # Skip empty rows\n",
    "        if not row:\n",
    "            continue\n",
    "\n",
    "        # Split the row into fields using semicolon as the delimiter\n",
    "        fields = row.split(';')\n",
    "\n",
    "        # Extract relevant information\n",
    "        track_id, vehicle_type, traveled_distance, avg_speed = fields[:4]\n",
    "        observations = [fields[i:i + 6] for i in range(4, len(fields), 6)]\n",
    "        \n",
    "\n",
    "        # Store the information in a dictionary\n",
    "        vehicle_info = {\n",
    "            'track_id': track_id.strip(),\n",
    "            'type': vehicle_type.strip(),\n",
    "            'traveled_distance': traveled_distance,\n",
    "            'avg_speed': avg_speed\n",
    "        }\n",
    "        vehicle_data.append(vehicle_info)\n",
    "        vehicle_observation = []\n",
    "        \n",
    "        # Store observation information\n",
    "        for obs in observations:\n",
    "            try:\n",
    "                lat, lon, speed, lon_acc, lat_acc, time = map(any, obs)\n",
    "                vehicle_observation.append({\n",
    "                    'track_id':track_id.strip(),\n",
    "                    'lat': lat,\n",
    "                    'lon': lon,\n",
    "                    'speed': speed,\n",
    "                    'lon_acc': lon_acc,\n",
    "                    'lat_acc': lat_acc,\n",
    "                    'time': time\n",
    "                })\n",
    "            except Exception as e:\n",
    "                continue\n",
    "        observation_data.append(observations)\n",
    "        \n",
    "        \n",
    "        \n",
    "\n",
    "    \n"
   ]
  },
  {
   "cell_type": "code",
   "execution_count": 15,
   "id": "01b04045",
   "metadata": {},
   "outputs": [
    {
     "ename": "NameError",
     "evalue": "name 'vehicle_data' is not defined",
     "output_type": "error",
     "traceback": [
      "\u001b[1;31m---------------------------------------------------------------------------\u001b[0m",
      "\u001b[1;31mNameError\u001b[0m                                 Traceback (most recent call last)",
      "Cell \u001b[1;32mIn[15], line 3\u001b[0m\n\u001b[0;32m      1\u001b[0m \u001b[38;5;66;03m#Append the vehicle information to the dataframe\u001b[39;00m\n\u001b[0;32m      2\u001b[0m \u001b[38;5;66;03m#vehicle information\u001b[39;00m\n\u001b[1;32m----> 3\u001b[0m df1 \u001b[38;5;241m=\u001b[39m pd\u001b[38;5;241m.\u001b[39mDataFrame(vehicle_data)\n\u001b[0;32m      4\u001b[0m \u001b[38;5;28mprint\u001b[39m(df1\u001b[38;5;241m.\u001b[39mhead())\n\u001b[0;32m      5\u001b[0m \u001b[38;5;66;03m#observed data for each vehicle per time stamp\u001b[39;00m\n",
      "\u001b[1;31mNameError\u001b[0m: name 'vehicle_data' is not defined"
     ]
    }
   ],
   "source": [
    "\n",
    "    #Append the vehicle information to the dataframe\n",
    "#vehicle information\n",
    "df1 = pd.DataFrame(vehicle_data)\n",
    "print(df1.head())\n",
    "    #observed data for each vehicle per time stamp\n",
    "df2 = pd.DataFrame(observation_data)\n",
    "print(df2.head())\n",
    "return df1,df2\n",
    "\n"
   ]
  },
  {
   "cell_type": "code",
   "execution_count": null,
   "id": "98314abe",
   "metadata": {},
   "outputs": [],
   "source": []
  }
 ],
 "metadata": {
  "kernelspec": {
   "display_name": "Python 3 (ipykernel)",
   "language": "python",
   "name": "python3"
  },
  "language_info": {
   "codemirror_mode": {
    "name": "ipython",
    "version": 3
   },
   "file_extension": ".py",
   "mimetype": "text/x-python",
   "name": "python",
   "nbconvert_exporter": "python",
   "pygments_lexer": "ipython3",
   "version": "3.11.5"
  }
 },
 "nbformat": 4,
 "nbformat_minor": 5
}
